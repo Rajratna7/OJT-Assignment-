{
 "cells": [
  {
   "cell_type": "code",
   "execution_count": null,
   "id": "394e0a35",
   "metadata": {},
   "outputs": [],
   "source": [
    "Name:- Rajratna Vijay Bhosale\n",
    "Roll NO:- 23091003\n",
    "Class:- MSc I Year"
   ]
  },
  {
   "cell_type": "markdown",
   "id": "e8840ba2",
   "metadata": {},
   "source": [
    "**Singular Value Decomposition (SVD):\n",
    "Perform Singular Value Decomposition on the matrix A obtained in Question 2. Separate and print\n",
    "matrices U, Σ, and V\n",
    "்\n",
    ". Verify that A equals the product of U, Σ, and V\n",
    "்\n",
    ". Additionally, find the rank 2\n",
    "and rank 3 approximations of matrix A**"
   ]
  },
  {
   "cell_type": "code",
   "execution_count": 1,
   "id": "869ab521",
   "metadata": {},
   "outputs": [
    {
     "name": "stdout",
     "output_type": "stream",
     "text": [
      "\n",
      "Is A equals the product of U, Sigma, and V^T?: True\n",
      "\n",
      "Matrix U:\n",
      "[[-2.57751920e-01  5.16621023e-01  8.11218847e-01 -9.26857501e-02\n",
      "   1.15204316e-18]\n",
      " [-6.32728948e-01 -3.15680342e-01  8.02682141e-02  7.02536130e-01\n",
      "   2.34029010e-16]\n",
      " [-2.57751920e-01  5.16621023e-01 -4.05609424e-01  4.63428750e-02\n",
      "  -7.07106781e-01]\n",
      " [-6.32728948e-01 -3.15680342e-01 -8.02682141e-02 -7.02536130e-01\n",
      "  -2.27578033e-16]\n",
      " [-2.57751920e-01  5.16621023e-01 -4.05609424e-01  4.63428750e-02\n",
      "   7.07106781e-01]]\n",
      "\n",
      "Matrix Sigma:\n",
      "[[2.36171063e+01 0.00000000e+00 0.00000000e+00 0.00000000e+00\n",
      "  0.00000000e+00]\n",
      " [0.00000000e+00 8.19952981e+00 0.00000000e+00 0.00000000e+00\n",
      "  0.00000000e+00]\n",
      " [0.00000000e+00 0.00000000e+00 1.33925939e-15 0.00000000e+00\n",
      "  0.00000000e+00]\n",
      " [0.00000000e+00 0.00000000e+00 0.00000000e+00 1.57257923e-16\n",
      "  0.00000000e+00]\n",
      " [0.00000000e+00 0.00000000e+00 0.00000000e+00 0.00000000e+00\n",
      "  2.71507349e-32]]\n",
      "\n",
      "Matrix V^T:\n",
      "[[-0.35423489 -0.44055849 -0.52688209 -0.6132057  -0.16370671]\n",
      " [-0.27297919 -0.16096029 -0.04894138  0.06307753  0.94509265]\n",
      " [-0.7732621   0.61210741  0.10964239 -0.05803538 -0.10954768]\n",
      " [-0.44032452 -0.55761843  0.08982468  0.64740874 -0.26070953]\n",
      " [-0.0904436  -0.30722339  0.83660628 -0.44440277 -0.00546348]]\n",
      "\n",
      "Rank 2 Approximation of Matrix A:\n",
      "[[ 1.00000000e+00  2.00000000e+00  3.00000000e+00  4.00000000e+00\n",
      "   5.00000000e+00]\n",
      " [ 6.00000000e+00  7.00000000e+00  8.00000000e+00  9.00000000e+00\n",
      "  -5.05145315e-16]\n",
      " [ 1.00000000e+00  2.00000000e+00  3.00000000e+00  4.00000000e+00\n",
      "   5.00000000e+00]\n",
      " [ 6.00000000e+00  7.00000000e+00  8.00000000e+00  9.00000000e+00\n",
      "   1.21554835e-15]\n",
      " [ 1.00000000e+00  2.00000000e+00  3.00000000e+00  4.00000000e+00\n",
      "   5.00000000e+00]]\n",
      "\n",
      "Rank 3 Approximation of Matrix A:\n",
      "[[ 1.00000000e+00  2.00000000e+00  3.00000000e+00  4.00000000e+00\n",
      "   5.00000000e+00]\n",
      " [ 6.00000000e+00  7.00000000e+00  8.00000000e+00  9.00000000e+00\n",
      "  -5.16921685e-16]\n",
      " [ 1.00000000e+00  2.00000000e+00  3.00000000e+00  4.00000000e+00\n",
      "   5.00000000e+00]\n",
      " [ 6.00000000e+00  7.00000000e+00  8.00000000e+00  9.00000000e+00\n",
      "   1.22732472e-15]\n",
      " [ 1.00000000e+00  2.00000000e+00  3.00000000e+00  4.00000000e+00\n",
      "   5.00000000e+00]]\n"
     ]
    }
   ],
   "source": [
    "import numpy as np\n",
    "\n",
    "A = np.array([[1, 2, 3, 4, 5],\n",
    "              [6, 7, 8, 9, 0],\n",
    "              [1, 2, 3, 4, 5],\n",
    "              [6, 7, 8, 9, 0],\n",
    "              [1, 2, 3, 4, 5]])\n",
    "\n",
    "U, sigma, Vt = np.linalg.svd(A)\n",
    "\n",
    "Sigma = np.zeros_like(A, dtype=float)\n",
    "Sigma[:min(A.shape), :min(A.shape)] = np.diag(sigma)\n",
    "\n",
    "reconstructed_A = np.dot(U, np.dot(Sigma, Vt))\n",
    "print(\"\\nIs A equals the product of U, Sigma, and V^T?:\", np.allclose(A, reconstructed_A))\n",
    "\n",
    "print(\"\\nMatrix U:\")\n",
    "print(U)\n",
    "print(\"\\nMatrix Sigma:\")\n",
    "print(Sigma)\n",
    "print(\"\\nMatrix V^T:\")\n",
    "print(Vt)\n",
    "\n",
    "rank_2_approximation = np.dot(U[:, :2], np.dot(Sigma[:2, :2], Vt[:2, :]))\n",
    "print(\"\\nRank 2 Approximation of Matrix A:\")\n",
    "print(rank_2_approximation)\n",
    "\n",
    "rank_3_approximation = np.dot(U[:, :3], np.dot(Sigma[:3, :3], Vt[:3, :]))\n",
    "print(\"\\nRank 3 Approximation of Matrix A:\")\n",
    "print(rank_3_approximation)\n"
   ]
  },
  {
   "cell_type": "code",
   "execution_count": null,
   "id": "bd64bc10",
   "metadata": {},
   "outputs": [],
   "source": []
  }
 ],
 "metadata": {
  "kernelspec": {
   "display_name": "Python 3 (ipykernel)",
   "language": "python",
   "name": "python3"
  },
  "language_info": {
   "codemirror_mode": {
    "name": "ipython",
    "version": 3
   },
   "file_extension": ".py",
   "mimetype": "text/x-python",
   "name": "python",
   "nbconvert_exporter": "python",
   "pygments_lexer": "ipython3",
   "version": "3.9.12"
  }
 },
 "nbformat": 4,
 "nbformat_minor": 5
}
