{
 "cells": [
  {
   "cell_type": "code",
   "execution_count": null,
   "id": "6577191c",
   "metadata": {},
   "outputs": [],
   "source": [
    "Name:- Rajratna Vijay Bhosale\n",
    "Roll NO:- 23091003\n",
    "Class:- MSc I Year"
   ]
  },
  {
   "cell_type": "markdown",
   "id": "59e6fa49",
   "metadata": {},
   "source": [
    "**Create a 5x5 matrix, A, with entries randomly chosen integers between 0 and 9. To generate the\n",
    "random matrix, set the random seed as the last two digits of your roll number. Reduce matrix A to its\n",
    "Row Echelon Form by performing elementary row operations.**"
   ]
  },
  {
   "cell_type": "code",
   "execution_count": 2,
   "id": "0f5b45e3",
   "metadata": {},
   "outputs": [
    {
     "name": "stdout",
     "output_type": "stream",
     "text": [
      "Matrix A:\n",
      "[[8 9 3 8 8]\n",
      " [0 5 3 9 9]\n",
      " [5 7 6 0 4]\n",
      " [7 8 1 6 2]\n",
      " [2 1 3 5 8]]\n",
      "\n",
      "Row Echelon Form of Matrix A:\n",
      "[[1 0 0 0 0]\n",
      " [0 1 0 0 0]\n",
      " [0 0 1 0 0]\n",
      " [0 0 0 1 0]\n",
      " [0 0 0 0 1]]\n"
     ]
    }
   ],
   "source": [
    "import numpy as np\n",
    "\n",
    "\n",
    "np.random.seed(3)  \n",
    "\n",
    "\n",
    "A = np.random.randint(0, 10, size=(5, 5))\n",
    "print(\"Matrix A:\")\n",
    "print(A)\n",
    "\n",
    "def row_echelon_form(matrix):\n",
    "    m, n = matrix.shape\n",
    "    lead = 0\n",
    "    for r in range(m):\n",
    "        if lead >= n:\n",
    "            break\n",
    "        i = r\n",
    "        while matrix[i, lead] == 0:\n",
    "            i += 1\n",
    "            if i == m:\n",
    "                i = r\n",
    "                lead += 1\n",
    "                if n == lead:\n",
    "                    break\n",
    "        matrix[[i, r]] = matrix[[r, i]]\n",
    "        lv = matrix[r, lead]\n",
    "        matrix[r] = matrix[r] / lv\n",
    "        for i in range(m):\n",
    "            if i != r:\n",
    "                lv = matrix[i, lead]\n",
    "                matrix[i] = matrix[i] - lv * matrix[r]\n",
    "        lead += 1\n",
    "    return matrix\n",
    "\n",
    "row_echelon_A = row_echelon_form(A.copy())\n",
    "print(\"\\nRow Echelon Form of Matrix A:\")\n",
    "print(row_echelon_A)\n"
   ]
  },
  {
   "cell_type": "code",
   "execution_count": null,
   "id": "66f8a6a2",
   "metadata": {},
   "outputs": [],
   "source": []
  }
 ],
 "metadata": {
  "kernelspec": {
   "display_name": "Python 3 (ipykernel)",
   "language": "python",
   "name": "python3"
  },
  "language_info": {
   "codemirror_mode": {
    "name": "ipython",
    "version": 3
   },
   "file_extension": ".py",
   "mimetype": "text/x-python",
   "name": "python",
   "nbconvert_exporter": "python",
   "pygments_lexer": "ipython3",
   "version": "3.9.12"
  }
 },
 "nbformat": 4,
 "nbformat_minor": 5
}
